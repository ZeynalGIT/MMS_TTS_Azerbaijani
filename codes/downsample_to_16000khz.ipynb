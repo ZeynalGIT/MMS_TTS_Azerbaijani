{
 "cells": [
  {
   "cell_type": "code",
   "execution_count": 7,
   "metadata": {},
   "outputs": [
    {
     "name": "stdout",
     "output_type": "stream",
     "text": [
      "Requirement already satisfied: pydub in c:\\users\\abbas\\anaconda3\\envs\\speechtotext\\lib\\site-packages (0.25.1)\n",
      "Collecting wave\n",
      "  Downloading Wave-0.0.2.zip (38 kB)\n",
      "  Preparing metadata (setup.py): started\n",
      "  Preparing metadata (setup.py): finished with status 'done'\n",
      "Building wheels for collected packages: wave\n",
      "  Building wheel for wave (setup.py): started\n",
      "  Building wheel for wave (setup.py): finished with status 'done'\n",
      "  Created wheel for wave: filename=Wave-0.0.2-py3-none-any.whl size=1228 sha256=da2c896a46944c6d4789f860dec046f1fb831ce56361ce3b3ebb979c189bf55a\n",
      "  Stored in directory: c:\\users\\abbas\\appdata\\local\\pip\\cache\\wheels\\8b\\ea\\98\\75ed94296181cd3404eb307bf6b8758bfc4a0a487e15493eb5\n",
      "Successfully built wave\n",
      "Installing collected packages: wave\n",
      "Successfully installed wave-0.0.2\n"
     ]
    }
   ],
   "source": [
    "!pip install pydub\n",
    "!pip install wave"
   ]
  },
  {
   "cell_type": "code",
   "execution_count": 3,
   "metadata": {},
   "outputs": [],
   "source": [
    "from pydub import AudioSegment\n",
    "import os\n",
    "import wave"
   ]
  },
  {
   "cell_type": "code",
   "execution_count": 6,
   "metadata": {},
   "outputs": [
    {
     "name": "stdout",
     "output_type": "stream",
     "text": [
      "Input:  48000\n",
      "Output:  16000\n"
     ]
    }
   ],
   "source": [
    "#output: Folder where you want to save 16khz audio file (.wav)\n",
    "output = r\"C:\\Users\\abbas\\Desktop\\TTS_Project\\audio data\\down sampled audio\"\n",
    "#input: Folder where your audio file (not 16khz) are located (.wav)\n",
    "input = r\"C:\\Users\\abbas\\Desktop\\TTS_Project\\audio data\\raw audio\"\n",
    "\n",
    "\n",
    "for i in os.listdir(input):\n",
    "    input_files_location = os.path.join(input, i)\n",
    "    output_files_location = os.path.join(output, i)\n",
    "    sound = AudioSegment.from_wav(input_files_location)\n",
    "    sound_w_new_fs = sound.set_frame_rate(16000)\n",
    "    sound_w_new_fs.export(output_files_location, format=\"wav\")\n",
    "\n",
    "\n",
    "#Checking Sample rates:\n",
    "\n",
    "#Input\n",
    "for file_name in os.listdir(input):\n",
    "    file_input = os.path.join(input, file_name)\n",
    "    with wave.open(file_input, \"rb\") as wave_file:\n",
    "        sample_rate_input = wave_file.getframerate()\n",
    "\n",
    "#Output\n",
    "for file_name in os.listdir(output):\n",
    "    file_output = os.path.join(output, file_name)\n",
    "    with wave.open(file_output, \"rb\") as wave_file:\n",
    "        sample_rate_output = wave_file.getframerate()\n",
    "\n",
    "print(\"Input: \", sample_rate_input)\n",
    "print(\"Output: \", sample_rate_output)"
   ]
  },
  {
   "cell_type": "code",
   "execution_count": null,
   "metadata": {},
   "outputs": [],
   "source": []
  }
 ],
 "metadata": {
  "kernelspec": {
   "display_name": "SpeechToText",
   "language": "python",
   "name": "python3"
  },
  "language_info": {
   "codemirror_mode": {
    "name": "ipython",
    "version": 3
   },
   "file_extension": ".py",
   "mimetype": "text/x-python",
   "name": "python",
   "nbconvert_exporter": "python",
   "pygments_lexer": "ipython3",
   "version": "3.12.4"
  }
 },
 "nbformat": 4,
 "nbformat_minor": 2
}
