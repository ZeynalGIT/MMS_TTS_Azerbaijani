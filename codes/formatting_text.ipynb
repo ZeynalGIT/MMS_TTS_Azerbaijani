{
 "cells": [
  {
   "cell_type": "code",
   "execution_count": 1,
   "metadata": {},
   "outputs": [],
   "source": [
    "import re, os"
   ]
  },
  {
   "cell_type": "code",
   "execution_count": 7,
   "metadata": {},
   "outputs": [],
   "source": [
    "#raw_text_path: path where your raw text is located\n",
    "raw_text_path = r\"C:\\Users\\abbas\\Desktop\\TTS_Project\\text data\\raw text\"\n",
    "#ready_text_path: path where you want save processed text\n",
    "ready_text_path = r\"C:\\Users\\abbas\\Desktop\\TTS_Project\\text data\\ready text\"\n",
    "\n",
    "for i in os.listdir(raw_text_path):\n",
    "    pth_input = os.path.join(raw_text_path, i)\n",
    "    pth_output = os.path.join(ready_text_path, i)\n",
    "\n",
    "    with open(pth_input, 'r') as file:\n",
    "        text = file.read()\n",
    "        res = [x for x in re.split(\"[//.|//?|//!]\", text) if x!=\"\"]\n",
    "    \n",
    "    lst = []\n",
    "    for i in res:\n",
    "        a=\" \"\n",
    "        for x in i:\n",
    "            if((x != '\\n') and (x != '(') and (x != ')') and (x != ':') and (x != ';') and (x != '”')\n",
    "               and (x != '“') and (x != '\"') and (x != '-') and (x != ',')):\n",
    "                a = a + x\n",
    "        lst.append(a.strip())\n",
    "\n",
    "    with open(pth_output, 'w') as f:\n",
    "        for i in lst:\n",
    "            i = i + '.'\n",
    "            f.write(\"{}\\n\".format(i))"
   ]
  },
  {
   "cell_type": "code",
   "execution_count": null,
   "metadata": {},
   "outputs": [],
   "source": []
  }
 ],
 "metadata": {
  "kernelspec": {
   "display_name": "SpeechToText",
   "language": "python",
   "name": "python3"
  },
  "language_info": {
   "codemirror_mode": {
    "name": "ipython",
    "version": 3
   },
   "file_extension": ".py",
   "mimetype": "text/x-python",
   "name": "python",
   "nbconvert_exporter": "python",
   "pygments_lexer": "ipython3",
   "version": "3.12.4"
  }
 },
 "nbformat": 4,
 "nbformat_minor": 2
}
