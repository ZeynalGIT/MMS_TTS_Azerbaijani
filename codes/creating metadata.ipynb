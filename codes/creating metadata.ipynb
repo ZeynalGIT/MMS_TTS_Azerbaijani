{
 "cells": [
  {
   "cell_type": "markdown",
   "metadata": {},
   "source": [
    "# Not working dataset for finetuning MMS TTS!"
   ]
  },
  {
   "cell_type": "code",
   "execution_count": 1,
   "metadata": {},
   "outputs": [],
   "source": [
    "import os\n",
    "import re\n",
    "import pandas as pd\n",
    "import csv"
   ]
  },
  {
   "cell_type": "code",
   "execution_count": 12,
   "metadata": {},
   "outputs": [],
   "source": [
    "path_to_txt_file = r\"C:\\Users\\abbas\\Desktop\\TTS_Project\\text data\\ready text\\Cəffər_Cabbarlı_Gülzar.txt\"\n",
    "path_to_audio_files = r\"C:\\Users\\abbas\\Desktop\\TTS_Project\\audio data\\audio files after forced alignment\"\n",
    "output_path = r\"C:\\Users\\abbas\\Desktop\\TTS_Project\\metadata\"\n",
    "\n",
    "client_ids = []  \n",
    "file_names = []\n",
    "sentence_ids = [] \n",
    "transcriptions = [] \n",
    "\n",
    "with open(path_to_txt_file, \"r\") as file:\n",
    "    a = file.readlines()\n",
    "    for i in a:\n",
    "        transcriptions.append(i)\n",
    "\n",
    "\n",
    "for i in os.listdir(path_to_audio_files):\n",
    "    file_names.append(i)\n",
    "\n",
    "for i in range(441):\n",
    "    u = str(i)\n",
    "    name = \"id\" + u\n",
    "    sentence_ids.append(name)\n",
    "    \n",
    "for i in range(50):\n",
    "    client_ids.append(2344)\n",
    "for i in range(50):\n",
    "    client_ids.append(3456)\n",
    "for i in range(100):\n",
    "    client_ids.append(3620)\n",
    "for i in range(40):\n",
    "    client_ids.append(2357)\n",
    "for i in range(60):\n",
    "    client_ids.append(9764)\n",
    "for i in range(141):\n",
    "    client_ids.append(7655)\n",
    "\n",
    "datafr = {\n",
    "    'client_id': client_ids,\n",
    "    'file_name': file_names,\n",
    "    'sentence_id': sentence_ids,\n",
    "    'transcription': transcriptions\n",
    "}\n",
    "\n",
    "\n",
    "df = pd.DataFrame(datafr)\n",
    "\n",
    "\n",
    "\n",
    "#This csv file contains quotataion marks\n",
    "output_csv = os.path.join(output_path, 'metadata.csv')\n",
    "df.to_csv(output_csv, index=False)\n",
    "\n"
   ]
  },
  {
   "cell_type": "code",
   "execution_count": null,
   "metadata": {},
   "outputs": [],
   "source": []
  }
 ],
 "metadata": {
  "kernelspec": {
   "display_name": "SpeechToText",
   "language": "python",
   "name": "python3"
  },
  "language_info": {
   "codemirror_mode": {
    "name": "ipython",
    "version": 3
   },
   "file_extension": ".py",
   "mimetype": "text/x-python",
   "name": "python",
   "nbconvert_exporter": "python",
   "pygments_lexer": "ipython3",
   "version": "3.12.4"
  }
 },
 "nbformat": 4,
 "nbformat_minor": 2
}
