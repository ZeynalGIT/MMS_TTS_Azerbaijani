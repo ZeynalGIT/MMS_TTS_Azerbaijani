{
  "cells": [
    {
      "cell_type": "markdown",
      "metadata": {},
      "source": [
        "# Run this notebook in google colab!\n",
        "\n",
        "## Instructions:\n",
        "### 1. upload your json file containing all hyperparametrs and location of your dataset(in hugging face website)\n",
        "### 2. make sure to change paths\n",
        "### 3. update the \"dataset_name\" parametr in json file (the json file is located in the Main JSON)"
      ]
    },
    {
      "cell_type": "code",
      "execution_count": null,
      "metadata": {
        "colab": {
          "base_uri": "https://localhost:8080/"
        },
        "id": "NqcUsn9itcZu",
        "outputId": "12f8b1df-36ea-4dfe-d88d-96d4693f8903"
      },
      "outputs": [],
      "source": [
        "from google.colab import drive\n",
        "drive.mount('/content/drive')"
      ]
    },
    {
      "cell_type": "code",
      "execution_count": null,
      "metadata": {
        "colab": {
          "base_uri": "https://localhost:8080/"
        },
        "id": "PnfZ039Bth1f",
        "outputId": "3454dd6f-ebc9-48c2-d2bd-9cd04bbea2d3"
      },
      "outputs": [],
      "source": [
        "%pwd\n",
        "!git clone https://github.com/ylacombe/finetune-hf-vits.git\n",
        "!python --version"
      ]
    },
    {
      "cell_type": "code",
      "execution_count": null,
      "metadata": {
        "colab": {
          "base_uri": "https://localhost:8080/",
          "height": 1000
        },
        "id": "k8KT-sdUtiIy",
        "outputId": "ebf8668b-1a0c-491d-c563-fd94de9b83ff"
      },
      "outputs": [],
      "source": [
        "%cd finetune-hf-vits\n",
        "\n",
        "\n",
        "!pip install transformers==4.38.2  #4.35.1\n",
        "!pip install datasets[audio]>=2.14.7 #2.14.7\n",
        "!pip install accelerate>=0.24.1 #0.24.1\n",
        "!pip install matplotlib\n",
        "!pip install wandb\n",
        "!pip install tensorboard\n",
        "!pip install Cython\n",
        "\n",
        "\n",
        "\n",
        "%cd monotonic_align/\n",
        "%mkdir monotonic_align\n",
        "!python3 setup.py build_ext --inplace\n",
        "%cd ../\n",
        "%pwd"
      ]
    },
    {
      "cell_type": "code",
      "execution_count": null,
      "metadata": {
        "colab": {
          "base_uri": "https://localhost:8080/"
        },
        "id": "GJ-xBSCJtifn",
        "outputId": "b0ed1171-1ee9-4c2e-8f85-117c501359cb"
      },
      "outputs": [],
      "source": [
        "!python3 convert_original_discriminator_checkpoint.py --language_code azj-script_latin --pytorch_dump_folder_path /path/to/where/save/model"
      ]
    },
    {
      "cell_type": "code",
      "execution_count": null,
      "metadata": {
        "colab": {
          "base_uri": "https://localhost:8080/"
        },
        "id": "O-ewAavItixj",
        "outputId": "17016f30-9c4f-4df5-e257-1b0af14b9bef"
      },
      "outputs": [],
      "source": [
        "!accelerate launch /content/finetune-hf-vits/run_vits_finetuning.py /path/to/.json/"
      ]
    }
  ],
  "metadata": {
    "accelerator": "GPU",
    "colab": {
      "gpuType": "T4",
      "provenance": []
    },
    "kernelspec": {
      "display_name": "Python 3",
      "name": "python3"
    },
    "language_info": {
      "name": "python"
    }
  },
  "nbformat": 4,
  "nbformat_minor": 0
}
